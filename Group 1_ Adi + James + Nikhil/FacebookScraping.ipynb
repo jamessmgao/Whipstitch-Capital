{
 "cells": [
  {
   "cell_type": "markdown",
   "source": "# Web scraping Facebook Reviews",
   "metadata": {
    "cell_id": "03cdb100fdf54ef682fb3ea08172f127",
    "tags": [],
    "is_collapsed": false,
    "deepnote_cell_type": "text-cell-h1"
   }
  },
  {
   "cell_type": "markdown",
   "source": "Fortunately, there are a lot of services that already automate this process. Unfortunately, most of them are paid.",
   "metadata": {
    "cell_id": "f13aac812ada413c837f9dcadb0c0891",
    "tags": [],
    "is_collapsed": false,
    "deepnote_cell_type": "text-cell-p"
   }
  },
  {
   "cell_type": "markdown",
   "source": "This is a free one (for 14 days) which seems pretty easy to use =&gt; https://wextractor.com/facebook",
   "metadata": {
    "cell_id": "50edd23d278946839dd86cbc7d9a0346",
    "tags": [],
    "is_collapsed": false,
    "deepnote_cell_type": "text-cell-p"
   }
  },
  {
   "cell_type": "markdown",
   "source": "### Let's Start!",
   "metadata": {
    "cell_id": "9fbe0242d2674d25b48f24b6553c99fc",
    "tags": [],
    "is_collapsed": false,
    "deepnote_cell_type": "text-cell-h3"
   }
  },
  {
   "cell_type": "markdown",
   "source": "nvm lots of errors",
   "metadata": {
    "cell_id": "9685e56cd9db4e5192ca5fe376fc80b2",
    "tags": [],
    "is_collapsed": false,
    "deepnote_cell_type": "text-cell-p"
   }
  },
  {
   "cell_type": "markdown",
   "source": "### Attempt 2",
   "metadata": {
    "cell_id": "4f267139487b49f0a01fde3c2713129c",
    "tags": [],
    "is_collapsed": false,
    "owner_user_id": "81e39e77-b3de-4924-979b-318ed839e060",
    "deepnote_cell_type": "text-cell-h3"
   }
  },
  {
   "cell_type": "markdown",
   "source": "Using cool library called facebook_scraper to scrape Sakara Life's page",
   "metadata": {
    "cell_id": "8d6a9c66fc6a438f95e9392a0fa4ab3c",
    "tags": [],
    "is_collapsed": false,
    "deepnote_cell_type": "text-cell-p"
   }
  },
  {
   "cell_type": "markdown",
   "source": "Following this article: https://medium.com/analytics-vidhya/facebook-post-scraping-and-text-analytics-9eea10563a3a",
   "metadata": {
    "cell_id": "ee5284c51eb84deea0480699ccc6c9c7",
    "tags": [],
    "is_collapsed": false,
    "deepnote_cell_type": "text-cell-p"
   }
  },
  {
   "cell_type": "markdown",
   "source": "Article is kinda lacking in information so I had to figure stuff out, but I detailed everything I did below",
   "metadata": {
    "cell_id": "7d05b2f03054404ea4c3dc93e74b7cc3",
    "tags": [],
    "is_collapsed": false,
    "deepnote_cell_type": "text-cell-p"
   }
  },
  {
   "cell_type": "code",
   "metadata": {
    "cell_id": "26d87dfa2baa46a9bfe131c951ccf25d",
    "tags": [],
    "deepnote_to_be_reexecuted": false,
    "source_hash": "474c2d7d",
    "execution_start": 1649377230585,
    "execution_millis": 17283,
    "deepnote_cell_type": "code",
    "deepnote_cell_height": 746
   },
   "source": "!pip install facebook_scraper",
   "execution_count": null,
   "outputs": [
    {
     "name": "stdout",
     "text": "Collecting facebook_scraper\n  Downloading facebook_scraper-0.2.55-py3-none-any.whl (43 kB)\n\u001b[K     |████████████████████████████████| 43 kB 3.9 MB/s \n\u001b[?25hCollecting demjson3<4.0.0,>=3.0.5\n  Downloading demjson3-3.0.5.tar.gz (132 kB)\n\u001b[K     |████████████████████████████████| 132 kB 41.8 MB/s \n\u001b[?25hCollecting dateparser<2.0.0,>=1.0.0\n  Downloading dateparser-1.1.1-py2.py3-none-any.whl (288 kB)\n\u001b[K     |████████████████████████████████| 288 kB 48.7 MB/s \n\u001b[?25hCollecting requests-html<0.11.0,>=0.10.0\n  Downloading requests_html-0.10.0-py3-none-any.whl (13 kB)\nCollecting tzlocal\n  Downloading tzlocal-4.2-py3-none-any.whl (19 kB)\nCollecting regex!=2019.02.19,!=2021.8.27,<2022.3.15\n  Downloading regex-2022.3.2-cp37-cp37m-manylinux_2_17_x86_64.manylinux2014_x86_64.whl (749 kB)\n\u001b[K     |████████████████████████████████| 749 kB 66.7 MB/s \n\u001b[?25hRequirement already satisfied: pytz in /shared-libs/python3.7/py/lib/python3.7/site-packages (from dateparser<2.0.0,>=1.0.0->facebook_scraper) (2022.1)\nRequirement already satisfied: python-dateutil in /shared-libs/python3.7/py-core/lib/python3.7/site-packages (from dateparser<2.0.0,>=1.0.0->facebook_scraper) (2.8.2)\nCollecting pyppeteer>=0.0.14\n  Downloading pyppeteer-1.0.2-py3-none-any.whl (83 kB)\n\u001b[K     |████████████████████████████████| 83 kB 4.2 MB/s \n\u001b[?25hRequirement already satisfied: w3lib in /shared-libs/python3.7/py/lib/python3.7/site-packages (from requests-html<0.11.0,>=0.10.0->facebook_scraper) (1.22.0)\nCollecting bs4\n  Downloading bs4-0.0.1.tar.gz (1.1 kB)\nCollecting fake-useragent\n  Downloading fake-useragent-0.1.11.tar.gz (13 kB)\nCollecting parse\n  Downloading parse-1.19.0.tar.gz (30 kB)\nCollecting pyquery\n  Downloading pyquery-1.4.3-py3-none-any.whl (22 kB)\nRequirement already satisfied: requests in /shared-libs/python3.7/py/lib/python3.7/site-packages (from requests-html<0.11.0,>=0.10.0->facebook_scraper) (2.27.1)\nCollecting backports.zoneinfo; python_version < \"3.9\"\n  Downloading backports.zoneinfo-0.2.1-cp37-cp37m-manylinux1_x86_64.whl (70 kB)\n\u001b[K     |████████████████████████████████| 70 kB 20.9 MB/s \n\u001b[?25hCollecting pytz-deprecation-shim\n  Downloading pytz_deprecation_shim-0.1.0.post0-py2.py3-none-any.whl (15 kB)\nRequirement already satisfied: six>=1.5 in /shared-libs/python3.7/py-core/lib/python3.7/site-packages (from python-dateutil->dateparser<2.0.0,>=1.0.0->facebook_scraper) (1.16.0)\nCollecting websockets<11.0,>=10.0\n  Downloading websockets-10.2-cp37-cp37m-manylinux_2_5_x86_64.manylinux1_x86_64.manylinux_2_12_x86_64.manylinux2010_x86_64.whl (111 kB)\n\u001b[K     |████████████████████████████████| 111 kB 76.3 MB/s \n\u001b[?25hRequirement already satisfied: importlib-metadata>=1.4 in /shared-libs/python3.7/py-core/lib/python3.7/site-packages (from pyppeteer>=0.0.14->requests-html<0.11.0,>=0.10.0->facebook_scraper) (4.11.3)\nCollecting appdirs<2.0.0,>=1.4.3\n  Downloading appdirs-1.4.4-py2.py3-none-any.whl (9.6 kB)\nRequirement already satisfied: urllib3<2.0.0,>=1.25.8 in /shared-libs/python3.7/py/lib/python3.7/site-packages (from pyppeteer>=0.0.14->requests-html<0.11.0,>=0.10.0->facebook_scraper) (1.26.9)\nRequirement already satisfied: certifi>=2021 in /shared-libs/python3.7/py/lib/python3.7/site-packages (from pyppeteer>=0.0.14->requests-html<0.11.0,>=0.10.0->facebook_scraper) (2021.10.8)\nCollecting pyee<9.0.0,>=8.1.0\n  Downloading pyee-8.2.2-py2.py3-none-any.whl (12 kB)\nRequirement already satisfied: tqdm<5.0.0,>=4.42.1 in /shared-libs/python3.7/py/lib/python3.7/site-packages (from pyppeteer>=0.0.14->requests-html<0.11.0,>=0.10.0->facebook_scraper) (4.63.0)\nRequirement already satisfied: beautifulsoup4 in /shared-libs/python3.7/py/lib/python3.7/site-packages (from bs4->requests-html<0.11.0,>=0.10.0->facebook_scraper) (4.10.0)\nRequirement already satisfied: lxml>=2.1 in /shared-libs/python3.7/py/lib/python3.7/site-packages (from pyquery->requests-html<0.11.0,>=0.10.0->facebook_scraper) (4.8.0)\nRequirement already satisfied: cssselect>0.7.9 in /shared-libs/python3.7/py/lib/python3.7/site-packages (from pyquery->requests-html<0.11.0,>=0.10.0->facebook_scraper) (1.1.0)\nRequirement already satisfied: idna<4,>=2.5; python_version >= \"3\" in /shared-libs/python3.7/py-core/lib/python3.7/site-packages (from requests->requests-html<0.11.0,>=0.10.0->facebook_scraper) (3.3)\nRequirement already satisfied: charset-normalizer~=2.0.0; python_version >= \"3\" in /shared-libs/python3.7/py-core/lib/python3.7/site-packages (from requests->requests-html<0.11.0,>=0.10.0->facebook_scraper) (2.0.12)\nCollecting tzdata; python_version >= \"3.6\"\n  Downloading tzdata-2022.1-py2.py3-none-any.whl (339 kB)\n\u001b[K     |████████████████████████████████| 339 kB 71.9 MB/s \n\u001b[?25hRequirement already satisfied: zipp>=0.5 in /shared-libs/python3.7/py-core/lib/python3.7/site-packages (from importlib-metadata>=1.4->pyppeteer>=0.0.14->requests-html<0.11.0,>=0.10.0->facebook_scraper) (3.7.0)\nRequirement already satisfied: typing-extensions>=3.6.4; python_version < \"3.8\" in /shared-libs/python3.7/py-core/lib/python3.7/site-packages (from importlib-metadata>=1.4->pyppeteer>=0.0.14->requests-html<0.11.0,>=0.10.0->facebook_scraper) (4.1.1)\nRequirement already satisfied: soupsieve>1.2 in /shared-libs/python3.7/py/lib/python3.7/site-packages (from beautifulsoup4->bs4->requests-html<0.11.0,>=0.10.0->facebook_scraper) (2.3.1)\nBuilding wheels for collected packages: demjson3, bs4, fake-useragent, parse\n  Building wheel for demjson3 (setup.py) ... \u001b[?25ldone\n\u001b[?25h  Created wheel for demjson3: filename=demjson3-3.0.5-py3-none-any.whl size=76064 sha256=b3b391f380a2bd19a5cb780b45a46419032beb918662e7087ac491b3b5480773\n  Stored in directory: /root/.cache/pip/wheels/c1/8b/a2/29e1cb2a9a3a27a5cfe8a57856a3310ea1e3c0a394eee8db61\n  Building wheel for bs4 (setup.py) ... \u001b[?25ldone\n\u001b[?25h  Created wheel for bs4: filename=bs4-0.0.1-py3-none-any.whl size=1272 sha256=9a0704317f432e46e3cbb44649e9c2d8fe554e83073c51315c48546912253f7d\n  Stored in directory: /root/.cache/pip/wheels/0a/9e/ba/20e5bbc1afef3a491f0b3bb74d508f99403aabe76eda2167ca\n  Building wheel for fake-useragent (setup.py) ... \u001b[?25ldone\n\u001b[?25h  Created wheel for fake-useragent: filename=fake_useragent-0.1.11-py3-none-any.whl size=13486 sha256=1f00def088c2e624e438cb82c9b420886df81c88a21db9e915d16185d944f4bb\n  Stored in directory: /root/.cache/pip/wheels/ed/f7/62/50ab6c9a0b5567267ab76a9daa9d06315704209b2c5d032031\n  Building wheel for parse (setup.py) ... \u001b[?25ldone\n\u001b[?25h  Created wheel for parse: filename=parse-1.19.0-py3-none-any.whl size=24580 sha256=17ddde4dc8870c9cf2f9d22d5b57dc439ba76d74cccc7ef393d26de20481ff99\n  Stored in directory: /root/.cache/pip/wheels/9c/aa/cc/f2228050ccb40f22144b073f15a2c84f11204f29fc0dce028e\nSuccessfully built demjson3 bs4 fake-useragent parse\nInstalling collected packages: demjson3, backports.zoneinfo, tzdata, pytz-deprecation-shim, tzlocal, regex, dateparser, websockets, appdirs, pyee, pyppeteer, bs4, fake-useragent, parse, pyquery, requests-html, facebook-scraper\n  Attempting uninstall: regex\n    Found existing installation: regex 2022.3.15\n    Not uninstalling regex at /shared-libs/python3.7/py/lib/python3.7/site-packages, outside environment /root/venv\n    Can't uninstall 'regex'. No files were found to uninstall.\nSuccessfully installed appdirs-1.4.4 backports.zoneinfo-0.2.1 bs4-0.0.1 dateparser-1.1.1 demjson3-3.0.5 facebook-scraper-0.2.55 fake-useragent-0.1.11 parse-1.19.0 pyee-8.2.2 pyppeteer-1.0.2 pyquery-1.4.3 pytz-deprecation-shim-0.1.0.post0 regex-2022.3.2 requests-html-0.10.0 tzdata-2022.1 tzlocal-4.2 websockets-10.2\n\u001b[33mWARNING: You are using pip version 20.1.1; however, version 22.0.4 is available.\nYou should consider upgrading via the '/root/venv/bin/python -m pip install --upgrade pip' command.\u001b[0m\n",
     "output_type": "stream"
    }
   ]
  },
  {
   "cell_type": "code",
   "metadata": {
    "cell_id": "e3cfe6b1adc34fecadba177658fdc12d",
    "tags": [],
    "deepnote_to_be_reexecuted": false,
    "source_hash": "2e52eb91",
    "execution_start": 1649377253614,
    "execution_millis": 2665,
    "deepnote_cell_type": "code",
    "deepnote_cell_height": 190.796875
   },
   "source": "from facebook_scraper import get_posts\nimport pandas as pd\nimport matplotlib.pyplot as plt\nimport seaborn as sns",
   "execution_count": null,
   "outputs": [
    {
     "name": "stderr",
     "text": "/shared-libs/python3.7/py/lib/python3.7/site-packages/tqdm/auto.py:22: TqdmWarning: IProgress not found. Please update jupyter and ipywidgets. See https://ipywidgets.readthedocs.io/en/stable/user_install.html\n  from .autonotebook import tqdm as notebook_tqdm\n",
     "output_type": "stream"
    }
   ]
  },
  {
   "cell_type": "markdown",
   "source": "Testing to make sure it works. What I had to do:",
   "metadata": {
    "cell_id": "0f5fd8ba3825441398e3535533503585",
    "tags": [],
    "is_collapsed": false,
    "deepnote_cell_type": "text-cell-p"
   }
  },
  {
   "cell_type": "markdown",
   "source": "1) Make a fake facebook account so that I don't get banned",
   "metadata": {
    "cell_id": "2aa0e2a5694b470e8673bbc9cbaf49b5",
    "tags": [],
    "is_collapsed": false,
    "deepnote_cell_type": "text-cell-p"
   }
  },
  {
   "cell_type": "markdown",
   "source": "2) Download this extension (https://chrome.google.com/webstore/detail/get-cookiestxt/bgaddhkoddajcdgocldbbfleckgcbcid/related?hl=en)",
   "metadata": {
    "cell_id": "2aa959d566e4416286332cf29cd5fa24",
    "tags": [],
    "is_collapsed": false,
    "deepnote_cell_type": "text-cell-p"
   }
  },
  {
   "cell_type": "markdown",
   "source": "3) Login to facebook account and use extension, and download the session id file generated",
   "metadata": {
    "cell_id": "bb87dd3d5b084952b037b03f9647b883",
    "tags": [],
    "is_collapsed": false,
    "deepnote_cell_type": "text-cell-p"
   }
  },
  {
   "cell_type": "markdown",
   "source": "4) Upload the session file here and then in the \"cookies\" parameter in the next block, replace it with that file's name",
   "metadata": {
    "cell_id": "1dcd2fbae500463d9e7d6c25ced100f8",
    "tags": [],
    "is_collapsed": false,
    "deepnote_cell_type": "text-cell-p"
   }
  },
  {
   "cell_type": "code",
   "metadata": {
    "cell_id": "82d00ae9c61b4dbd997ce269cf91633b",
    "tags": [],
    "deepnote_to_be_reexecuted": false,
    "source_hash": "ac85c34a",
    "execution_start": 1649378680603,
    "execution_millis": 10716,
    "deepnote_cell_type": "code",
    "deepnote_cell_height": 254.796875
   },
   "source": "for post in get_posts('nintendo', pages=1, cookies='facebook.com_cookies.txt'):\n    print(post['text'][:50])",
   "execution_count": null,
   "outputs": [
    {
     "name": "stderr",
     "text": "/shared-libs/python3.7/py-core/lib/python3.7/site-packages/IPython/core/interactiveshell.py:3524: UserWarning: A low page limit (<=2) might return no results, try increasing the limit\n  exec(code_obj, self.user_global_ns, self.user_ns)\nExperience new adventures with LEGO Peach! Here’s \nA new Kirby-themed physical award is on the way!\nT\n/root/venv/lib/python3.7/site-packages/facebook_scraper/facebook_scraper.py:841: UserWarning: Facebook says 'Unsupported Browser'\n  warnings.warn(f\"Facebook says 'Unsupported Browser'\")\n",
     "output_type": "stream"
    }
   ]
  },
  {
   "cell_type": "markdown",
   "source": "Ok let's try an actual full meal service brand =&gt; The string you want to pass into the get_posts function should be everything after the slash \"facebook.com/PAGE_NAME\"",
   "metadata": {
    "cell_id": "820d37f4f9ec42cda9a3f6560cf36130",
    "tags": [],
    "is_collapsed": false,
    "deepnote_cell_type": "text-cell-p"
   }
  },
  {
   "cell_type": "markdown",
   "source": "There's a lot of options you can pass (have to look at documentation, but the one's below should be enough, feel free to remove/add stuff   ",
   "metadata": {
    "cell_id": "15589702f23644dca8669e6ca3ca3627",
    "tags": [],
    "is_collapsed": false,
    "deepnote_cell_type": "text-cell-p"
   }
  },
  {
   "cell_type": "code",
   "metadata": {
    "cell_id": "9fb7ba3704ed45a6b6dd0a291afe989e",
    "tags": [],
    "deepnote_to_be_reexecuted": false,
    "source_hash": "a257474a",
    "execution_start": 1649379976458,
    "execution_millis": 71679,
    "deepnote_cell_type": "code",
    "deepnote_cell_height": 576
   },
   "source": "post_df_full = pd.DataFrame();\n\nfor post in get_posts('SakaraLife', cookies='facebook.com_cookies.txt', extra_info=True, pages=5, options={\"comments\": True}):\n    post_entry = post\n    fb_post_df = pd.DataFrame.from_dict(post_entry, orient='index')\n    fb_post_df = fb_post_df.transpose()\n    post_df_full = post_df_full.append(fb_post_df)\n    print(post['post_id'] + ' get')\n    ",
   "execution_count": null,
   "outputs": [
    {
     "name": "stdout",
     "text": "5189365661152567 get\n5186889341400199 get\n5170780479677752 get\n5150410701714730 get\n5144644155624718 get\n5137345683021232 get\n5120657154690085 get\n5109823842440083 get\n5104445532977914 get\n5099690703453397 get\n5093764057379395 get\n5079263065496161 get\n5077016862387448 get\n5066579443431190 get\n5063424447080023 get\n5056960504393084 get\n5051504588272009 get\n",
     "output_type": "stream"
    }
   ]
  },
  {
   "cell_type": "code",
   "metadata": {
    "cell_id": "83c1eaf330294cf891c0f1390a6d3846",
    "tags": [],
    "deepnote_to_be_reexecuted": false,
    "source_hash": "f0d61d8e",
    "execution_start": 1649380076318,
    "execution_millis": 3,
    "deepnote_cell_type": "code",
    "deepnote_cell_height": 701
   },
   "source": "post_df_full.info()",
   "execution_count": null,
   "outputs": [
    {
     "name": "stdout",
     "text": "<class 'pandas.core.frame.DataFrame'>\nInt64Index: 17 entries, 0 to 0\nData columns (total 51 columns):\n #   Column                         Non-Null Count  Dtype         \n---  ------                         --------------  -----         \n 0   post_id                        17 non-null     object        \n 1   text                           17 non-null     object        \n 2   post_text                      17 non-null     object        \n 3   shared_text                    17 non-null     object        \n 4   original_text                  0 non-null      object        \n 5   time                           17 non-null     datetime64[ns]\n 6   timestamp                      17 non-null     object        \n 7   image                          16 non-null     object        \n 8   image_lowquality               17 non-null     object        \n 9   images                         17 non-null     object        \n 10  images_description             17 non-null     object        \n 11  images_lowquality              17 non-null     object        \n 12  images_lowquality_description  17 non-null     object        \n 13  video                          1 non-null      object        \n 14  video_duration_seconds         0 non-null      object        \n 15  video_height                   0 non-null      object        \n 16  video_id                       1 non-null      object        \n 17  video_quality                  0 non-null      object        \n 18  video_size_MB                  0 non-null      object        \n 19  video_thumbnail                1 non-null      object        \n 20  video_watches                  0 non-null      object        \n 21  video_width                    0 non-null      object        \n 22  likes                          17 non-null     object        \n 23  comments                       17 non-null     object        \n 24  shares                         17 non-null     object        \n 25  post_url                       17 non-null     object        \n 26  link                           5 non-null      object        \n 27  links                          17 non-null     object        \n 28  user_id                        17 non-null     object        \n 29  username                       17 non-null     object        \n 30  user_url                       17 non-null     object        \n 31  is_live                        17 non-null     object        \n 32  factcheck                      0 non-null      object        \n 33  shared_post_id                 0 non-null      object        \n 34  shared_time                    0 non-null      object        \n 35  shared_user_id                 0 non-null      object        \n 36  shared_username                0 non-null      object        \n 37  shared_post_url                0 non-null      object        \n 38  available                      17 non-null     object        \n 39  comments_full                  17 non-null     object        \n 40  reactors                       17 non-null     object        \n 41  w3_fb_url                      17 non-null     object        \n 42  reactions                      17 non-null     object        \n 43  reaction_count                 17 non-null     object        \n 44  with                           0 non-null      object        \n 45  page_id                        17 non-null     object        \n 46  sharers                        0 non-null      object        \n 47  image_id                       12 non-null     object        \n 48  image_ids                      17 non-null     object        \n 49  was_live                       17 non-null     object        \n 50  fetched_time                   17 non-null     datetime64[ns]\ndtypes: datetime64[ns](2), object(49)\nmemory usage: 7.4+ KB\n",
     "output_type": "stream"
    }
   ]
  },
  {
   "cell_type": "code",
   "metadata": {
    "cell_id": "72a1878a70e14903980cff856fe0d1de",
    "tags": [],
    "deepnote_to_be_reexecuted": false,
    "source_hash": "373dae03",
    "execution_start": 1649380121107,
    "execution_millis": 62,
    "deepnote_cell_type": "code",
    "deepnote_cell_height": 411.796875
   },
   "source": "post_df_full.head()",
   "execution_count": null,
   "outputs": [
    {
     "output_type": "execute_result",
     "execution_count": 13,
     "data": {
      "application/vnd.deepnote.dataframe.v3+json": {
       "column_count": 51,
       "row_count": 5,
       "columns": [
        {
         "name": "post_id",
         "dtype": "object",
         "stats": {
          "unique_count": 5,
          "nan_count": 0,
          "categories": [
           {
            "name": "5189365661152567",
            "count": 1
           },
           {
            "name": "5186889341400199",
            "count": 1
           },
           {
            "name": "3 others",
            "count": 3
           }
          ]
         }
        },
        {
         "name": "text",
         "dtype": "object",
         "stats": {
          "unique_count": 5,
          "nan_count": 0,
          "categories": [
           {
            "name": "A moment of appreciation for high-vibe, vibrant Sakara breakfasts.\n⠀⠀⠀⠀⠀⠀⠀⠀⠀\nRG via: @great.and.fullll",
            "count": 1
           },
           {
            "name": "You've been loving our new Detox Protein Super Bar. Ever wonder what it's made from? Here's a peek under the wrapper:\n⠀⠀⠀⠀⠀⠀⠀⠀⠀\n✨ Blue Spirulina: This powerful blue-green algae not only gives our bar its vivid blue hue, but also supports optimal detox pathway activity—helping to eliminate toxins and boost skin radiance\n⠀⠀⠀⠀⠀⠀⠀⠀⠀\n✨ Sesame Seed: The main ingredient in tahini, sesame is a super seed packed with fiber that encourages the body’s natural cleansing rhythms and supports liver health\n⠀⠀⠀⠀⠀⠀⠀⠀⠀\n✨ 12g Plant Protein: This organic, potent blend (made from almonds, brown rice and pea protein) contains all nine necessary amino acids needed to support satiation and fuel muscles",
            "count": 1
           },
           {
            "name": "3 others",
            "count": 3
           }
          ]
         }
        },
        {
         "name": "post_text",
         "dtype": "object",
         "stats": {
          "unique_count": 5,
          "nan_count": 0,
          "categories": [
           {
            "name": "A moment of appreciation for high-vibe, vibrant Sakara breakfasts.\n⠀⠀⠀⠀⠀⠀⠀⠀⠀\nRG via: @great.and.fullll",
            "count": 1
           },
           {
            "name": "You've been loving our new Detox Protein Super Bar. Ever wonder what it's made from? Here's a peek under the wrapper:\n⠀⠀⠀⠀⠀⠀⠀⠀⠀\n✨ Blue Spirulina: This powerful blue-green algae not only gives our bar its vivid blue hue, but also supports optimal detox pathway activity—helping to eliminate toxins and boost skin radiance\n⠀⠀⠀⠀⠀⠀⠀⠀⠀\n✨ Sesame Seed: The main ingredient in tahini, sesame is a super seed packed with fiber that encourages the body’s natural cleansing rhythms and supports liver health\n⠀⠀⠀⠀⠀⠀⠀⠀⠀\n✨ 12g Plant Protein: This organic, potent blend (made from almonds, brown rice and pea protein) contains all nine necessary amino acids needed to support satiation and fuel muscles",
            "count": 1
           },
           {
            "name": "3 others",
            "count": 3
           }
          ]
         }
        },
        {
         "name": "shared_text",
         "dtype": "object",
         "stats": {
          "unique_count": 1,
          "nan_count": 0,
          "categories": [
           {
            "name": "",
            "count": 5
           }
          ]
         }
        },
        {
         "name": "original_text",
         "dtype": "object",
         "stats": {
          "unique_count": 0,
          "nan_count": 5,
          "categories": [
           {
            "name": "Missing",
            "count": 5
           }
          ]
         }
        },
        {
         "name": "time",
         "dtype": "datetime64[ns]",
         "stats": {
          "unique_count": 5,
          "nan_count": 0,
          "min": "2022-03-20 14:43:28",
          "max": "2022-04-06 14:00:26",
          "histogram": [
           {
            "bin_start": 1647787408000000000,
            "bin_end": 1647934029800000000,
            "count": 1
           },
           {
            "bin_start": 1647934029800000000,
            "bin_end": 1648080651600000000,
            "count": 1
           },
           {
            "bin_start": 1648080651600000000,
            "bin_end": 1648227273400000000,
            "count": 0
           },
           {
            "bin_start": 1648227273400000000,
            "bin_end": 1648373895200000000,
            "count": 0
           },
           {
            "bin_start": 1648373895200000000,
            "bin_end": 1648520517000000000,
            "count": 0
           },
           {
            "bin_start": 1648520517000000000,
            "bin_end": 1648667138800000000,
            "count": 1
           },
           {
            "bin_start": 1648667138800000000,
            "bin_end": 1648813760600000000,
            "count": 0
           },
           {
            "bin_start": 1648813760600000000,
            "bin_end": 1648960382400000000,
            "count": 0
           },
           {
            "bin_start": 1648960382400000000,
            "bin_end": 1649107004200000000,
            "count": 0
           },
           {
            "bin_start": 1649107004200000000,
            "bin_end": 1649253626000000000,
            "count": 2
           }
          ]
         }
        },
        {
         "name": "timestamp",
         "dtype": "object",
         "stats": {
          "unique_count": 5,
          "nan_count": 0,
          "categories": [
           {
            "name": "1649253626",
            "count": 1
           },
           {
            "name": "1649173663",
            "count": 1
           },
           {
            "name": "3 others",
            "count": 3
           }
          ]
         }
        },
        {
         "name": "image",
         "dtype": "object",
         "stats": {
          "unique_count": 5,
          "nan_count": 0,
          "categories": [
           {
            "name": "https://scontent-iad3-1.xx.fbcdn.net/v/t39.30808-6/277679448_5189365571152576_9126463337889786855_n.jpg?stp=cp0_dst-jpg_e15_fr_q65&_nc_cat=104&ccb=1-5&_nc_sid=9e2e56&efg=eyJpIjoidCJ9&_nc_ohc=28IZ6HaJ8DMAX-lr5aj&_nc_ht=scontent-iad3-1.xx&oh=00_AT-nSYDNXmRT7HT5-yvJHnKNpanzsvGGTkhYu8Pu_jjjaQ&oe=6255103F",
            "count": 1
           },
           {
            "name": "https://scontent-iad3-1.xx.fbcdn.net/v/t39.30808-6/278017578_5186889271400206_6843067003476187106_n.jpg?stp=cp0_dst-jpg_e15_fr_q65&_nc_cat=106&ccb=1-5&_nc_sid=9e2e56&efg=eyJpIjoidCJ9&_nc_ohc=ZpdpJ2mLziwAX8gbUJr&_nc_ht=scontent-iad3-1.xx&oh=00_AT9wEHlIqJHdFr872oFeO97sihwHX1vsHSQVt2Wvmh_1Rg&oe=6254B11B",
            "count": 1
           },
           {
            "name": "3 others",
            "count": 3
           }
          ]
         }
        },
        {
         "name": "image_lowquality",
         "dtype": "object",
         "stats": {
          "unique_count": 5,
          "nan_count": 0,
          "categories": [
           {
            "name": "https://scontent-iad3-1.xx.fbcdn.net/v/t39.30808-6/277679448_5189365571152576_9126463337889786855_n.jpg?stp=cp0_dst-jpg_e15_p261x260_q65&_nc_cat=104&ccb=1-5&_nc_sid=9e2e56&efg=eyJpIjoidCJ9&_nc_ohc=28IZ6HaJ8DMAX-lr5aj&_nc_ht=scontent-iad3-1.xx&oh=00_AT--nhfoHI4KaXctjpBUBjSb9SsrzbpaqFSFmt-ZlTuZew&oe=6255103F",
            "count": 1
           },
           {
            "name": "https://scontent-iad3-1.xx.fbcdn.net/v/t39.30808-6/278017578_5186889271400206_6843067003476187106_n.jpg?stp=cp0_dst-jpg_e15_p320x320_q65&_nc_cat=106&ccb=1-5&_nc_sid=9e2e56&efg=eyJpIjoidCJ9&_nc_ohc=ZpdpJ2mLziwAX8gbUJr&_nc_ht=scontent-iad3-1.xx&oh=00_AT9B49hkphk0i-AQ1xMHLYrV1KIKwGCNcQhApx0zqH4Iag&oe=6254B11B",
            "count": 1
           },
           {
            "name": "3 others",
            "count": 3
           }
          ]
         }
        },
        {
         "name": "images",
         "dtype": "object",
         "stats": {
          "unique_count": 5,
          "nan_count": 0,
          "categories": [
           {
            "name": "['https://scontent-iad3-1.xx.fbcdn.net/v/t39.30808-6/277679448_5189365571152576_9126463337889786855_n.jpg?stp=cp0_dst-jpg_e15_fr_q65&_nc_cat=104&ccb=1-5&_nc_sid=9e2e56&efg=eyJpIjoidCJ9&_nc_ohc=28IZ6HaJ8DMAX-lr5aj&_nc_ht=scontent-iad3-1.xx&oh=00_AT-nSYDNXmRT7HT5-yvJHnKNpanzsvGGTkhYu8Pu_jjjaQ&oe=6255103F', 'https://scontent-iad3-1.xx.fbcdn.net/v/t39.30808-6/277798233_5189365574485909_5664803492957137079_n.jpg?stp=cp0_dst-jpg_e15_fr_q65&_nc_cat=110&ccb=1-5&_nc_sid=9e2e56&efg=eyJpIjoidCJ9&_nc_ohc=DdBDnC8dGdMAX90BZp9&_nc_ht=scontent-iad3-1.xx&oh=00_AT_aPVej_GGB10nHvugxa3vq4iz9bi0dsowHE3HTrw0K1A&oe=6253C13F', 'https://scontent-iad3-1.xx.fbcdn.net/v/t39.30808-6/277780792_5189365577819242_8135730479130993009_n.jpg?stp=cp0_dst-jpg_e15_fr_q65&_nc_cat=100&ccb=1-5&_nc_sid=9e2e56&efg=eyJpIjoidCJ9&_nc_ohc=zCCkJXnK5LkAX_hsxxc&_nc_ht=scontent-iad3-1.xx&oh=00_AT98FtEjlqAHvl71c5snhGoE1U3ImqfYM2ZKF8whYVr81Q&oe=62539F0F']",
            "count": 1
           },
           {
            "name": "['https://scontent-iad3-1.xx.fbcdn.net/v/t39.30808-6/278017578_5186889271400206_6843067003476187106_n.jpg?stp=cp0_dst-jpg_e15_fr_q65&_nc_cat=106&ccb=1-5&_nc_sid=9e2e56&efg=eyJpIjoidCJ9&_nc_ohc=ZpdpJ2mLziwAX8gbUJr&_nc_ht=scontent-iad3-1.xx&oh=00_AT9wEHlIqJHdFr872oFeO97sihwHX1vsHSQVt2Wvmh_1Rg&oe=6254B11B']",
            "count": 1
           },
           {
            "name": "3 others",
            "count": 3
           }
          ]
         }
        },
        {
         "name": "images_description",
         "dtype": "object",
         "stats": {
          "unique_count": 5,
          "nan_count": 0,
          "categories": [
           {
            "name": "['May be an image of fruit and dessert', 'May be an image of food and indoor', \"May be an image of food, indoor and text that says 'y ۳ BREAKFAST v BREAKFAST SAKARA.'\"]",
            "count": 1
           },
           {
            "name": "['No photo description available.']",
            "count": 1
           },
           {
            "name": "3 others",
            "count": 3
           }
          ]
         }
        },
        {
         "name": "images_lowquality",
         "dtype": "object",
         "stats": {
          "unique_count": 5,
          "nan_count": 0,
          "categories": [
           {
            "name": "['https://scontent-iad3-1.xx.fbcdn.net/v/t39.30808-6/277679448_5189365571152576_9126463337889786855_n.jpg?stp=cp0_dst-jpg_e15_p261x260_q65&_nc_cat=104&ccb=1-5&_nc_sid=9e2e56&efg=eyJpIjoidCJ9&_nc_ohc=28IZ6HaJ8DMAX-lr5aj&_nc_ht=scontent-iad3-1.xx&oh=00_AT--nhfoHI4KaXctjpBUBjSb9SsrzbpaqFSFmt-ZlTuZew&oe=6255103F', 'https://scontent-iad3-1.xx.fbcdn.net/v/t39.30808-6/277798233_5189365574485909_5664803492957137079_n.jpg?stp=cp0_dst-jpg_e15_p160x160_q65&_nc_cat=110&ccb=1-5&_nc_sid=9e2e56&efg=eyJpIjoidCJ9&_nc_ohc=DdBDnC8dGdMAX90BZp9&_nc_ht=scontent-iad3-1.xx&oh=00_AT8mpdolTBHcPyr2mmfow2r-9Ha6t8bogIFvc1TDiNTBuA&oe=6253C13F', 'https://scontent-iad3-1.xx.fbcdn.net/v/t39.30808-6/277780792_5189365577819242_8135730479130993009_n.jpg?stp=cp0_dst-jpg_e15_p160x160_q65&_nc_cat=100&ccb=1-5&_nc_sid=9e2e56&efg=eyJpIjoidCJ9&_nc_ohc=zCCkJXnK5LkAX_hsxxc&_nc_ht=scontent-iad3-1.xx&oh=00_AT_-Z2o5YJ0wfdrW2hWcApNpgLcRWUyM6icuHbfGvvEOuA&oe=62539F0F']",
            "count": 1
           },
           {
            "name": "['https://scontent-iad3-1.xx.fbcdn.net/v/t39.30808-6/278017578_5186889271400206_6843067003476187106_n.jpg?stp=cp0_dst-jpg_e15_p320x320_q65&_nc_cat=106&ccb=1-5&_nc_sid=9e2e56&efg=eyJpIjoidCJ9&_nc_ohc=ZpdpJ2mLziwAX8gbUJr&_nc_ht=scontent-iad3-1.xx&oh=00_AT9B49hkphk0i-AQ1xMHLYrV1KIKwGCNcQhApx0zqH4Iag&oe=6254B11B']",
            "count": 1
           },
           {
            "name": "3 others",
            "count": 3
           }
          ]
         }
        },
        {
         "name": "images_lowquality_description",
         "dtype": "object",
         "stats": {
          "unique_count": 5,
          "nan_count": 0,
          "categories": [
           {
            "name": "['May be an image of fruit and dessert', 'May be an image of food and indoor', \"May be an image of food, indoor and text that says 'y ۳ BREAKFAST v BREAKFAST SAKARA.'\"]",
            "count": 1
           },
           {
            "name": "['No photo description available.']",
            "count": 1
           },
           {
            "name": "3 others",
            "count": 3
           }
          ]
         }
        },
        {
         "name": "video",
         "dtype": "object",
         "stats": {
          "unique_count": 0,
          "nan_count": 5,
          "categories": [
           {
            "name": "Missing",
            "count": 5
           }
          ]
         }
        },
        {
         "name": "video_duration_seconds",
         "dtype": "object",
         "stats": {
          "unique_count": 0,
          "nan_count": 5,
          "categories": [
           {
            "name": "Missing",
            "count": 5
           }
          ]
         }
        },
        {
         "name": "video_height",
         "dtype": "object",
         "stats": {
          "unique_count": 0,
          "nan_count": 5,
          "categories": [
           {
            "name": "Missing",
            "count": 5
           }
          ]
         }
        },
        {
         "name": "video_id",
         "dtype": "object",
         "stats": {
          "unique_count": 0,
          "nan_count": 5,
          "categories": [
           {
            "name": "Missing",
            "count": 5
           }
          ]
         }
        },
        {
         "name": "video_quality",
         "dtype": "object",
         "stats": {
          "unique_count": 0,
          "nan_count": 5,
          "categories": [
           {
            "name": "Missing",
            "count": 5
           }
          ]
         }
        },
        {
         "name": "video_size_MB",
         "dtype": "object",
         "stats": {
          "unique_count": 0,
          "nan_count": 5,
          "categories": [
           {
            "name": "Missing",
            "count": 5
           }
          ]
         }
        },
        {
         "name": "video_thumbnail",
         "dtype": "object",
         "stats": {
          "unique_count": 0,
          "nan_count": 5,
          "categories": [
           {
            "name": "Missing",
            "count": 5
           }
          ]
         }
        },
        {
         "name": "video_watches",
         "dtype": "object",
         "stats": {
          "unique_count": 0,
          "nan_count": 5,
          "categories": [
           {
            "name": "Missing",
            "count": 5
           }
          ]
         }
        },
        {
         "name": "video_width",
         "dtype": "object",
         "stats": {
          "unique_count": 0,
          "nan_count": 5,
          "categories": [
           {
            "name": "Missing",
            "count": 5
           }
          ]
         }
        },
        {
         "name": "likes",
         "dtype": "object",
         "stats": {
          "unique_count": 4,
          "nan_count": 0,
          "categories": [
           {
            "name": "13",
            "count": 2
           },
           {
            "name": "8",
            "count": 1
           },
           {
            "name": "2 others",
            "count": 2
           }
          ]
         }
        },
        {
         "name": "comments",
         "dtype": "object",
         "stats": {
          "unique_count": 1,
          "nan_count": 0,
          "categories": [
           {
            "name": "0",
            "count": 5
           }
          ]
         }
        },
        {
         "name": "shares",
         "dtype": "object",
         "stats": {
          "unique_count": 4,
          "nan_count": 0,
          "categories": [
           {
            "name": "0",
            "count": 2
           },
           {
            "name": "1",
            "count": 1
           },
           {
            "name": "2 others",
            "count": 2
           }
          ]
         }
        },
        {
         "name": "post_url",
         "dtype": "object",
         "stats": {
          "unique_count": 5,
          "nan_count": 0,
          "categories": [
           {
            "name": "https://facebook.com/SakaraLife/posts/5189365661152567",
            "count": 1
           },
           {
            "name": "https://facebook.com/SakaraLife/posts/5186889341400199",
            "count": 1
           },
           {
            "name": "3 others",
            "count": 3
           }
          ]
         }
        },
        {
         "name": "link",
         "dtype": "object",
         "stats": {
          "unique_count": 0,
          "nan_count": 5,
          "categories": [
           {
            "name": "Missing",
            "count": 5
           }
          ]
         }
        },
        {
         "name": "links",
         "dtype": "object",
         "stats": {
          "unique_count": 5,
          "nan_count": 0,
          "categories": [
           {
            "name": "[]",
            "count": 3
           },
           {
            "name": "[{'link': '/story.php?story_fbid=5186889341400199&id=108057625950088', 'text': 'More'}]",
            "count": 1
           },
           {
            "name": "[{'link': '/story.php?story_fbid=5150410701714730&id=108057625950088', 'text': 'More'}]",
            "count": 1
           }
          ]
         }
        },
        {
         "name": "user_id",
         "dtype": "object",
         "stats": {
          "unique_count": 1,
          "nan_count": 0,
          "categories": [
           {
            "name": "108057625950088",
            "count": 5
           }
          ]
         }
        },
        {
         "name": "username",
         "dtype": "object",
         "stats": {
          "unique_count": 1,
          "nan_count": 0,
          "categories": [
           {
            "name": "Sakara Life",
            "count": 5
           }
          ]
         }
        },
        {
         "name": "user_url",
         "dtype": "object",
         "stats": {
          "unique_count": 1,
          "nan_count": 0,
          "categories": [
           {
            "name": "https://facebook.com/SakaraLife/?__tn__=C-R",
            "count": 5
           }
          ]
         }
        },
        {
         "name": "is_live",
         "dtype": "object",
         "stats": {
          "unique_count": 1,
          "nan_count": 0,
          "categories": [
           {
            "name": "False",
            "count": 5
           }
          ]
         }
        },
        {
         "name": "factcheck",
         "dtype": "object",
         "stats": {
          "unique_count": 0,
          "nan_count": 5,
          "categories": [
           {
            "name": "Missing",
            "count": 5
           }
          ]
         }
        },
        {
         "name": "shared_post_id",
         "dtype": "object",
         "stats": {
          "unique_count": 0,
          "nan_count": 5,
          "categories": [
           {
            "name": "Missing",
            "count": 5
           }
          ]
         }
        },
        {
         "name": "shared_time",
         "dtype": "object",
         "stats": {
          "unique_count": 0,
          "nan_count": 5,
          "categories": [
           {
            "name": "Missing",
            "count": 5
           }
          ]
         }
        },
        {
         "name": "shared_user_id",
         "dtype": "object",
         "stats": {
          "unique_count": 0,
          "nan_count": 5,
          "categories": [
           {
            "name": "Missing",
            "count": 5
           }
          ]
         }
        },
        {
         "name": "shared_username",
         "dtype": "object",
         "stats": {
          "unique_count": 0,
          "nan_count": 5,
          "categories": [
           {
            "name": "Missing",
            "count": 5
           }
          ]
         }
        },
        {
         "name": "shared_post_url",
         "dtype": "object",
         "stats": {
          "unique_count": 0,
          "nan_count": 5,
          "categories": [
           {
            "name": "Missing",
            "count": 5
           }
          ]
         }
        },
        {
         "name": "available",
         "dtype": "object",
         "stats": {
          "unique_count": 1,
          "nan_count": 0,
          "categories": [
           {
            "name": "True",
            "count": 5
           }
          ]
         }
        },
        {
         "name": "comments_full",
         "dtype": "object",
         "stats": {
          "unique_count": 5,
          "nan_count": 0,
          "categories": [
           {
            "name": "[]",
            "count": 5
           }
          ]
         }
        },
        {
         "name": "reactors",
         "dtype": "object",
         "stats": {
          "unique_count": 5,
          "nan_count": 0,
          "categories": [
           {
            "name": "[]",
            "count": 5
           }
          ]
         }
        },
        {
         "name": "w3_fb_url",
         "dtype": "object",
         "stats": {
          "unique_count": 5,
          "nan_count": 0,
          "categories": [
           {
            "name": "https://www.facebook.com/SakaraLife/posts/5189365661152567",
            "count": 1
           },
           {
            "name": "https://www.facebook.com/SakaraLife/posts/5186889341400199",
            "count": 1
           },
           {
            "name": "3 others",
            "count": 3
           }
          ]
         }
        },
        {
         "name": "reactions",
         "dtype": "object",
         "stats": {
          "unique_count": 5,
          "nan_count": 0,
          "categories": [
           {
            "name": "{'like': 13, 'love': 1}",
            "count": 1
           },
           {
            "name": "{'like': 8, 'love': 1}",
            "count": 1
           },
           {
            "name": "3 others",
            "count": 3
           }
          ]
         }
        },
        {
         "name": "reaction_count",
         "dtype": "object",
         "stats": {
          "unique_count": 5,
          "nan_count": 0,
          "categories": [
           {
            "name": "14",
            "count": 1
           },
           {
            "name": "9",
            "count": 1
           },
           {
            "name": "3 others",
            "count": 3
           }
          ]
         }
        },
        {
         "name": "with",
         "dtype": "object",
         "stats": {
          "unique_count": 0,
          "nan_count": 5,
          "categories": [
           {
            "name": "Missing",
            "count": 5
           }
          ]
         }
        },
        {
         "name": "page_id",
         "dtype": "object",
         "stats": {
          "unique_count": 1,
          "nan_count": 0,
          "categories": [
           {
            "name": "108057625950088",
            "count": 5
           }
          ]
         }
        },
        {
         "name": "sharers",
         "dtype": "object",
         "stats": {
          "unique_count": 0,
          "nan_count": 5,
          "categories": [
           {
            "name": "Missing",
            "count": 5
           }
          ]
         }
        },
        {
         "name": "image_id",
         "dtype": "object",
         "stats": {
          "unique_count": 3,
          "nan_count": 2,
          "categories": [
           {
            "name": "5186889291400204",
            "count": 1
           },
           {
            "name": "2 others",
            "count": 2
           },
           {
            "name": "Missing",
            "count": 2
           }
          ]
         }
        },
        {
         "name": "image_ids",
         "dtype": "object",
         "stats": {
          "unique_count": 5,
          "nan_count": 0,
          "categories": [
           {
            "name": "[]",
            "count": 2
           },
           {
            "name": "['5186889291400204']",
            "count": 1
           },
           {
            "name": "2 others",
            "count": 2
           }
          ]
         }
        },
        {
         "name": "was_live",
         "dtype": "object",
         "stats": {
          "unique_count": 1,
          "nan_count": 0,
          "categories": [
           {
            "name": "False",
            "count": 5
           }
          ]
         }
        },
        {
         "name": "fetched_time",
         "dtype": "datetime64[ns]",
         "stats": {
          "unique_count": 5,
          "nan_count": 0,
          "min": "2022-04-08 01:06:23.002239",
          "max": "2022-04-08 01:06:33.209188",
          "histogram": [
           {
            "bin_start": 1649379983002239000,
            "bin_end": 1649379984022934000,
            "count": 1
           },
           {
            "bin_start": 1649379984022934000,
            "bin_end": 1649379985043628800,
            "count": 0
           },
           {
            "bin_start": 1649379985043628800,
            "bin_end": 1649379986064323600,
            "count": 1
           },
           {
            "bin_start": 1649379986064323600,
            "bin_end": 1649379987085018600,
            "count": 0
           },
           {
            "bin_start": 1649379987085018600,
            "bin_end": 1649379988105713700,
            "count": 1
           },
           {
            "bin_start": 1649379988105713700,
            "bin_end": 1649379989126408400,
            "count": 0
           },
           {
            "bin_start": 1649379989126408400,
            "bin_end": 1649379990147103200,
            "count": 0
           },
           {
            "bin_start": 1649379990147103200,
            "bin_end": 1649379991167798300,
            "count": 1
           },
           {
            "bin_start": 1649379991167798300,
            "bin_end": 1649379992188493300,
            "count": 0
           },
           {
            "bin_start": 1649379992188493300,
            "bin_end": 1649379993209188000,
            "count": 1
           }
          ]
         }
        },
        {
         "name": "_deepnote_index_column",
         "dtype": "int64"
        }
       ],
       "rows": [
        {
         "post_id": "5189365661152567",
         "text": "A moment of appreciation for high-vibe, vibrant Sakara breakfasts.\n⠀⠀⠀⠀⠀⠀⠀⠀⠀\nRG via: @great.and.fullll",
         "post_text": "A moment of appreciation for high-vibe, vibrant Sakara breakfasts.\n⠀⠀⠀⠀⠀⠀⠀⠀⠀\nRG via: @great.and.fullll",
         "shared_text": "",
         "original_text": "None",
         "time": "2022-04-06T14:00:26.000000",
         "timestamp": "1649253626",
         "image": "https://scontent-iad3-1.xx.fbcdn.net/v/t39.30808-6/277679448_5189365571152576_9126463337889786855_n.jpg?stp=cp0_dst-jpg_e15_fr_q65&_nc_cat=104&ccb=1-5&_nc_sid=9e2e56&efg=eyJpIjoidCJ9&_nc_ohc=28IZ6HaJ8DMAX-lr5aj&_nc_ht=scontent-iad3-1.xx&oh=00_AT-nSYDNXmRT7HT5-yvJHnKNpanzsvGGTkhYu8Pu_jjjaQ&oe=6255103F",
         "image_lowquality": "https://scontent-iad3-1.xx.fbcdn.net/v/t39.30808-6/277679448_5189365571152576_9126463337889786855_n.jpg?stp=cp0_dst-jpg_e15_p261x260_q65&_nc_cat=104&ccb=1-5&_nc_sid=9e2e56&efg=eyJpIjoidCJ9&_nc_ohc=28IZ6HaJ8DMAX-lr5aj&_nc_ht=scontent-iad3-1.xx&oh=00_AT--nhfoHI4KaXctjpBUBjSb9SsrzbpaqFSFmt-ZlTuZew&oe=6255103F",
         "images": "['https://scontent-iad3-1.xx.fbcdn.net/v/t39.30808-6/277679448_5189365571152576_9126463337889786855_n.jpg?stp=cp0_dst-jpg_e15_fr_q65&_nc_cat=104&ccb=1-5&_nc_sid=9e2e56&efg=eyJpIjoidCJ9&_nc_ohc=28IZ6HaJ8DMAX-lr5aj&_nc_ht=scontent-iad3-1.xx&oh=00_AT-nSYDNXmRT7HT5-yvJHnKNpanzsvGGTkhYu8Pu_jjjaQ&oe=6255103F', 'https://scontent-iad3-1.xx.fbcdn.net/v/t39.30808-6/277798233_5189365574485909_5664803492957137079_n.jpg?stp=cp0_dst-jpg_e15_fr_q65&_nc_cat=110&ccb=1-5&_nc_sid=9e2e56&efg=eyJpIjoidCJ9&_nc_ohc=DdBDnC8dGdMAX90BZp9&_nc_ht=scontent-iad3-1.xx&oh=00_AT_aPVej_GGB10nHvugxa3vq4iz9bi0dsowHE3HTrw0K1A&oe=6253C13F', 'https://scontent-iad3-1.xx.fbcdn.net/v/t39.30808-6/277780792_5189365577819242_8135730479130993009_n.jpg?stp=cp0_dst-jpg_e15_fr_q65&_nc_cat=100&ccb=1-5&_nc_sid=9e2e56&efg=eyJpIjoidCJ9&_nc_ohc=zCCkJXnK5LkAX_hsxxc&_nc_ht=scontent-iad3-1.xx&oh=00_AT98FtEjlqAHvl71c5snhGoE1U3ImqfYM2ZKF8whYVr81Q&oe=62539F0F']",
         "images_description": "['May be an image of fruit and dessert', 'May be an image of food and indoor', \"May be an image of food, indoor and text that says 'y ۳ BREAKFAST v BREAKFAST SAKARA.'\"]",
         "images_lowquality": "['https://scontent-iad3-1.xx.fbcdn.net/v/t39.30808-6/277679448_5189365571152576_9126463337889786855_n.jpg?stp=cp0_dst-jpg_e15_p261x260_q65&_nc_cat=104&ccb=1-5&_nc_sid=9e2e56&efg=eyJpIjoidCJ9&_nc_ohc=28IZ6HaJ8DMAX-lr5aj&_nc_ht=scontent-iad3-1.xx&oh=00_AT--nhfoHI4KaXctjpBUBjSb9SsrzbpaqFSFmt-ZlTuZew&oe=6255103F', 'https://scontent-iad3-1.xx.fbcdn.net/v/t39.30808-6/277798233_5189365574485909_5664803492957137079_n.jpg?stp=cp0_dst-jpg_e15_p160x160_q65&_nc_cat=110&ccb=1-5&_nc_sid=9e2e56&efg=eyJpIjoidCJ9&_nc_ohc=DdBDnC8dGdMAX90BZp9&_nc_ht=scontent-iad3-1.xx&oh=00_AT8mpdolTBHcPyr2mmfow2r-9Ha6t8bogIFvc1TDiNTBuA&oe=6253C13F', 'https://scontent-iad3-1.xx.fbcdn.net/v/t39.30808-6/277780792_5189365577819242_8135730479130993009_n.jpg?stp=cp0_dst-jpg_e15_p160x160_q65&_nc_cat=100&ccb=1-5&_nc_sid=9e2e56&efg=eyJpIjoidCJ9&_nc_ohc=zCCkJXnK5LkAX_hsxxc&_nc_ht=scontent-iad3-1.xx&oh=00_AT_-Z2o5YJ0wfdrW2hWcApNpgLcRWUyM6icuHbfGvvEOuA&oe=62539F0F']",
         "images_lowquality_description": "['May be an image of fruit and dessert', 'May be an image of food and indoor', \"May be an image of food, indoor and text that says 'y ۳ BREAKFAST v BREAKFAST SAKARA.'\"]",
         "video": "None",
         "video_duration_seconds": "None",
         "video_height": "None",
         "video_id": "None",
         "video_quality": "None",
         "video_size_MB": "None",
         "video_thumbnail": "None",
         "video_watches": "None",
         "video_width": "None",
         "likes": "13",
         "comments": "0",
         "shares": "0",
         "post_url": "https://facebook.com/SakaraLife/posts/5189365661152567",
         "link": "None",
         "links": "[]",
         "user_id": "108057625950088",
         "username": "Sakara Life",
         "user_url": "https://facebook.com/SakaraLife/?__tn__=C-R",
         "is_live": "False",
         "factcheck": "None",
         "shared_post_id": "None",
         "shared_time": "None",
         "shared_user_id": "None",
         "shared_username": "None",
         "shared_post_url": "None",
         "available": "True",
         "comments_full": "[]",
         "reactors": "[]",
         "w3_fb_url": "https://www.facebook.com/SakaraLife/posts/5189365661152567",
         "reactions": "{'like': 13, 'love': 1}",
         "reaction_count": "14",
         "with": "None",
         "page_id": "108057625950088",
         "sharers": "None",
         "image_id": "None",
         "image_ids": "[]",
         "was_live": "False",
         "fetched_time": "2022-04-08T01:06:23.002239",
         "_deepnote_index_column": 0
        },
        {
         "post_id": "5186889341400199",
         "text": "You've been loving our new Detox Protein Super Bar. Ever wonder what it's made from? Here's a peek under the wrapper:\n⠀⠀⠀⠀⠀⠀⠀⠀⠀\n✨ Blue Spirulina: This powerful blue-green algae not only gives our bar its vivid blue hue, but also supports optimal detox pathway activity—helping to eliminate toxins and boost skin radiance\n⠀⠀⠀⠀⠀⠀⠀⠀⠀\n✨ Sesame Seed: The main ingredient in tahini, sesame is a super seed packed with fiber that encourages the body’s natural cleansing rhythms and supports liver health\n⠀⠀⠀⠀⠀⠀⠀⠀⠀\n✨ 12g Plant Protein: This organic, potent blend (made from almonds, brown rice and pea protein) contains all nine necessary amino acids needed to support satiation and fuel muscles",
         "post_text": "You've been loving our new Detox Protein Super Bar. Ever wonder what it's made from? Here's a peek under the wrapper:\n⠀⠀⠀⠀⠀⠀⠀⠀⠀\n✨ Blue Spirulina: This powerful blue-green algae not only gives our bar its vivid blue hue, but also supports optimal detox pathway activity—helping to eliminate toxins and boost skin radiance\n⠀⠀⠀⠀⠀⠀⠀⠀⠀\n✨ Sesame Seed: The main ingredient in tahini, sesame is a super seed packed with fiber that encourages the body’s natural cleansing rhythms and supports liver health\n⠀⠀⠀⠀⠀⠀⠀⠀⠀\n✨ 12g Plant Protein: This organic, potent blend (made from almonds, brown rice and pea protein) contains all nine necessary amino acids needed to support satiation and fuel muscles",
         "shared_text": "",
         "original_text": "None",
         "time": "2022-04-05T15:47:43.000000",
         "timestamp": "1649173663",
         "image": "https://scontent-iad3-1.xx.fbcdn.net/v/t39.30808-6/278017578_5186889271400206_6843067003476187106_n.jpg?stp=cp0_dst-jpg_e15_fr_q65&_nc_cat=106&ccb=1-5&_nc_sid=9e2e56&efg=eyJpIjoidCJ9&_nc_ohc=ZpdpJ2mLziwAX8gbUJr&_nc_ht=scontent-iad3-1.xx&oh=00_AT9wEHlIqJHdFr872oFeO97sihwHX1vsHSQVt2Wvmh_1Rg&oe=6254B11B",
         "image_lowquality": "https://scontent-iad3-1.xx.fbcdn.net/v/t39.30808-6/278017578_5186889271400206_6843067003476187106_n.jpg?stp=cp0_dst-jpg_e15_p320x320_q65&_nc_cat=106&ccb=1-5&_nc_sid=9e2e56&efg=eyJpIjoidCJ9&_nc_ohc=ZpdpJ2mLziwAX8gbUJr&_nc_ht=scontent-iad3-1.xx&oh=00_AT9B49hkphk0i-AQ1xMHLYrV1KIKwGCNcQhApx0zqH4Iag&oe=6254B11B",
         "images": "['https://scontent-iad3-1.xx.fbcdn.net/v/t39.30808-6/278017578_5186889271400206_6843067003476187106_n.jpg?stp=cp0_dst-jpg_e15_fr_q65&_nc_cat=106&ccb=1-5&_nc_sid=9e2e56&efg=eyJpIjoidCJ9&_nc_ohc=ZpdpJ2mLziwAX8gbUJr&_nc_ht=scontent-iad3-1.xx&oh=00_AT9wEHlIqJHdFr872oFeO97sihwHX1vsHSQVt2Wvmh_1Rg&oe=6254B11B']",
         "images_description": "['No photo description available.']",
         "images_lowquality": "['https://scontent-iad3-1.xx.fbcdn.net/v/t39.30808-6/278017578_5186889271400206_6843067003476187106_n.jpg?stp=cp0_dst-jpg_e15_p320x320_q65&_nc_cat=106&ccb=1-5&_nc_sid=9e2e56&efg=eyJpIjoidCJ9&_nc_ohc=ZpdpJ2mLziwAX8gbUJr&_nc_ht=scontent-iad3-1.xx&oh=00_AT9B49hkphk0i-AQ1xMHLYrV1KIKwGCNcQhApx0zqH4Iag&oe=6254B11B']",
         "images_lowquality_description": "['No photo description available.']",
         "video": "None",
         "video_duration_seconds": "None",
         "video_height": "None",
         "video_id": "None",
         "video_quality": "None",
         "video_size_MB": "None",
         "video_thumbnail": "None",
         "video_watches": "None",
         "video_width": "None",
         "likes": "8",
         "comments": "0",
         "shares": "1",
         "post_url": "https://facebook.com/SakaraLife/posts/5186889341400199",
         "link": "None",
         "links": "[{'link': '/story.php?story_fbid=5186889341400199&id=108057625950088', 'text': 'More'}]",
         "user_id": "108057625950088",
         "username": "Sakara Life",
         "user_url": "https://facebook.com/SakaraLife/?__tn__=C-R",
         "is_live": "False",
         "factcheck": "None",
         "shared_post_id": "None",
         "shared_time": "None",
         "shared_user_id": "None",
         "shared_username": "None",
         "shared_post_url": "None",
         "available": "True",
         "comments_full": "[]",
         "reactors": "[]",
         "w3_fb_url": "https://www.facebook.com/SakaraLife/posts/5186889341400199",
         "reactions": "{'like': 8, 'love': 1}",
         "reaction_count": "9",
         "with": "None",
         "page_id": "108057625950088",
         "sharers": "None",
         "image_id": "5186889291400204",
         "image_ids": "['5186889291400204']",
         "was_live": "False",
         "fetched_time": "2022-04-08T01:06:25.465812",
         "_deepnote_index_column": 0
        },
        {
         "post_id": "5170780479677752",
         "text": "Functional foods backed by science and guided by spirit. Which of our wellness essentials did you fall for first?👇",
         "post_text": "Functional foods backed by science and guided by spirit. Which of our wellness essentials did you fall for first?👇",
         "shared_text": "",
         "original_text": "None",
         "time": "2022-03-30T14:48:41.000000",
         "timestamp": "1648651721",
         "image": "https://scontent-iad3-1.xx.fbcdn.net/v/t39.30808-6/277228848_5170780419677758_7247995170783968322_n.jpg?stp=cp0_dst-jpg_e15_fr_q65&_nc_cat=100&ccb=1-5&_nc_sid=9e2e56&efg=eyJpIjoidCJ9&_nc_ohc=n3sNjAIGJiwAX8p2VU-&tn=aWja4kiydKx5Pfk8&_nc_ht=scontent-iad3-1.xx&oh=00_AT9hyAzEvZBIw7uKpE1EQi1sbzqGHsWYDn9OdVxVNkR0KA&oe=6253E657",
         "image_lowquality": "https://scontent-iad3-1.xx.fbcdn.net/v/t39.30808-6/277228848_5170780419677758_7247995170783968322_n.jpg?stp=cp0_dst-jpg_e15_p320x320_q65&_nc_cat=100&ccb=1-5&_nc_sid=9e2e56&efg=eyJpIjoidCJ9&_nc_ohc=n3sNjAIGJiwAX8p2VU-&tn=aWja4kiydKx5Pfk8&_nc_ht=scontent-iad3-1.xx&oh=00_AT8UiwgmtFion0trmweGQOf54PjeOWaJnDteXTBd2LEAPA&oe=6253E657",
         "images": "['https://scontent-iad3-1.xx.fbcdn.net/v/t39.30808-6/277228848_5170780419677758_7247995170783968322_n.jpg?stp=cp0_dst-jpg_e15_fr_q65&_nc_cat=100&ccb=1-5&_nc_sid=9e2e56&efg=eyJpIjoidCJ9&_nc_ohc=n3sNjAIGJiwAX8p2VU-&tn=aWja4kiydKx5Pfk8&_nc_ht=scontent-iad3-1.xx&oh=00_AT9hyAzEvZBIw7uKpE1EQi1sbzqGHsWYDn9OdVxVNkR0KA&oe=6253E657']",
         "images_description": "['May be an image of cosmetics']",
         "images_lowquality": "['https://scontent-iad3-1.xx.fbcdn.net/v/t39.30808-6/277228848_5170780419677758_7247995170783968322_n.jpg?stp=cp0_dst-jpg_e15_p320x320_q65&_nc_cat=100&ccb=1-5&_nc_sid=9e2e56&efg=eyJpIjoidCJ9&_nc_ohc=n3sNjAIGJiwAX8p2VU-&tn=aWja4kiydKx5Pfk8&_nc_ht=scontent-iad3-1.xx&oh=00_AT8UiwgmtFion0trmweGQOf54PjeOWaJnDteXTBd2LEAPA&oe=6253E657']",
         "images_lowquality_description": "['May be an image of cosmetics']",
         "video": "None",
         "video_duration_seconds": "None",
         "video_height": "None",
         "video_id": "None",
         "video_quality": "None",
         "video_size_MB": "None",
         "video_thumbnail": "None",
         "video_watches": "None",
         "video_width": "None",
         "likes": "5",
         "comments": "0",
         "shares": "2",
         "post_url": "https://facebook.com/SakaraLife/posts/5170780479677752",
         "link": "None",
         "links": "[]",
         "user_id": "108057625950088",
         "username": "Sakara Life",
         "user_url": "https://facebook.com/SakaraLife/?__tn__=C-R",
         "is_live": "False",
         "factcheck": "None",
         "shared_post_id": "None",
         "shared_time": "None",
         "shared_user_id": "None",
         "shared_username": "None",
         "shared_post_url": "None",
         "available": "True",
         "comments_full": "[]",
         "reactors": "[]",
         "w3_fb_url": "https://www.facebook.com/SakaraLife/posts/5170780479677752",
         "reactions": "{'like': 5, 'love': 2}",
         "reaction_count": "7",
         "with": "None",
         "page_id": "108057625950088",
         "sharers": "None",
         "image_id": "5170780426344424",
         "image_ids": "['5170780426344424']",
         "was_live": "False",
         "fetched_time": "2022-04-08T01:06:27.397679",
         "_deepnote_index_column": 0
        },
        {
         "post_id": "5150410701714730",
         "text": "All the perks of an afternoon latte, none of caffeine’s unpleasant side effects. Next time you need a boost, reach for an Energy Protein Super Bar. Take a peek under the wrapper:\n⠀⠀⠀⠀⠀⠀⠀⠀⠀\nCordyceps Mushrooms: an antioxidant-rich adaptogen that supports stamina by increasing the production of ATP, the molecule that powers the body’s energetic function\n⠀⠀⠀⠀⠀⠀⠀⠀⠀\nAshwagandha Root: an adaptogenic herb, essential to Ayurvedic healing, that helps balance cortisol and ease adrenal fatigue\n⠀⠀⠀⠀⠀⠀⠀⠀⠀\n12g Plant Protein: this organic, potent blend (made from almonds, brown rice and pea protein) contains all nine necessary amino acids needed to support satiation and fuel muscles",
         "post_text": "All the perks of an afternoon latte, none of caffeine’s unpleasant side effects. Next time you need a boost, reach for an Energy Protein Super Bar. Take a peek under the wrapper:\n⠀⠀⠀⠀⠀⠀⠀⠀⠀\nCordyceps Mushrooms: an antioxidant-rich adaptogen that supports stamina by increasing the production of ATP, the molecule that powers the body’s energetic function\n⠀⠀⠀⠀⠀⠀⠀⠀⠀\nAshwagandha Root: an adaptogenic herb, essential to Ayurvedic healing, that helps balance cortisol and ease adrenal fatigue\n⠀⠀⠀⠀⠀⠀⠀⠀⠀\n12g Plant Protein: this organic, potent blend (made from almonds, brown rice and pea protein) contains all nine necessary amino acids needed to support satiation and fuel muscles",
         "shared_text": "",
         "original_text": "None",
         "time": "2022-03-22T21:30:12.000000",
         "timestamp": "1647984612",
         "image": "https://scontent-iad3-1.xx.fbcdn.net/v/t39.30808-6/275976601_5150410651714735_3366284758366314753_n.jpg?stp=cp0_dst-jpg_e15_fr_q65&_nc_cat=107&ccb=1-5&_nc_sid=9e2e56&efg=eyJpIjoidCJ9&_nc_ohc=oN2o1TGddjMAX_Xwzlp&tn=aWja4kiydKx5Pfk8&_nc_ht=scontent-iad3-1.xx&oh=00_AT-05kJlguVNEpznwvPo-CoA-cpjrh_JGckkoxpu99DvOA&oe=6254CE75",
         "image_lowquality": "https://scontent-iad3-1.xx.fbcdn.net/v/t39.30808-6/275976601_5150410651714735_3366284758366314753_n.jpg?stp=cp0_dst-jpg_e15_q65_s320x320&_nc_cat=107&ccb=1-5&_nc_sid=9e2e56&efg=eyJpIjoidCJ9&_nc_ohc=oN2o1TGddjMAX_Xwzlp&tn=aWja4kiydKx5Pfk8&_nc_ht=scontent-iad3-1.xx&oh=00_AT9yd7jVZVjSGVbgw_b1aRfSCY_mBDYmBbKM1wxN01NfgQ&oe=6254CE75",
         "images": "['https://scontent-iad3-1.xx.fbcdn.net/v/t39.30808-6/275976601_5150410651714735_3366284758366314753_n.jpg?stp=cp0_dst-jpg_e15_fr_q65&_nc_cat=107&ccb=1-5&_nc_sid=9e2e56&efg=eyJpIjoidCJ9&_nc_ohc=oN2o1TGddjMAX_Xwzlp&tn=aWja4kiydKx5Pfk8&_nc_ht=scontent-iad3-1.xx&oh=00_AT-05kJlguVNEpznwvPo-CoA-cpjrh_JGckkoxpu99DvOA&oe=6254CE75', 'https://scontent-iad3-1.xx.fbcdn.net/v/t39.30808-6/277162155_5150410655048068_3218237154190238191_n.jpg?stp=cp0_dst-jpg_e15_fr_q65&_nc_cat=105&ccb=1-5&_nc_sid=9e2e56&efg=eyJpIjoidCJ9&_nc_ohc=nK49UMU-T_wAX_gGOvK&tn=aWja4kiydKx5Pfk8&_nc_ht=scontent-iad3-1.xx&oh=00_AT-XpWAeCnoRsVKczU8VszPFRC3-rm2e2bi4hFzQmA8ydA&oe=6254C8DC']",
         "images_description": "[\"May be an image of 1 person and text that says 'ENERG'\", 'May be an image of food']",
         "images_lowquality": "['https://scontent-iad3-1.xx.fbcdn.net/v/t39.30808-6/275976601_5150410651714735_3366284758366314753_n.jpg?stp=cp0_dst-jpg_e15_q65_s320x320&_nc_cat=107&ccb=1-5&_nc_sid=9e2e56&efg=eyJpIjoidCJ9&_nc_ohc=oN2o1TGddjMAX_Xwzlp&tn=aWja4kiydKx5Pfk8&_nc_ht=scontent-iad3-1.xx&oh=00_AT9yd7jVZVjSGVbgw_b1aRfSCY_mBDYmBbKM1wxN01NfgQ&oe=6254CE75', 'https://scontent-iad3-1.xx.fbcdn.net/v/t39.30808-6/277162155_5150410655048068_3218237154190238191_n.jpg?stp=cp0_dst-jpg_e15_q65_s320x320&_nc_cat=105&ccb=1-5&_nc_sid=9e2e56&efg=eyJpIjoidCJ9&_nc_ohc=nK49UMU-T_wAX_gGOvK&tn=aWja4kiydKx5Pfk8&_nc_ht=scontent-iad3-1.xx&oh=00_AT-XN2eswjcxjjLOW1zn0o_NSlzaDfgbt5q53mDGYsFHSA&oe=6254C8DC']",
         "images_lowquality_description": "[\"May be an image of 1 person and text that says 'ENERG'\", 'May be an image of food']",
         "video": "None",
         "video_duration_seconds": "None",
         "video_height": "None",
         "video_id": "None",
         "video_quality": "None",
         "video_size_MB": "None",
         "video_thumbnail": "None",
         "video_watches": "None",
         "video_width": "None",
         "likes": "4",
         "comments": "0",
         "shares": "0",
         "post_url": "https://facebook.com/SakaraLife/posts/5150410701714730",
         "link": "None",
         "links": "[{'link': '/story.php?story_fbid=5150410701714730&id=108057625950088', 'text': 'More'}]",
         "user_id": "108057625950088",
         "username": "Sakara Life",
         "user_url": "https://facebook.com/SakaraLife/?__tn__=C-R",
         "is_live": "False",
         "factcheck": "None",
         "shared_post_id": "None",
         "shared_time": "None",
         "shared_user_id": "None",
         "shared_username": "None",
         "shared_post_url": "None",
         "available": "True",
         "comments_full": "[]",
         "reactors": "[]",
         "w3_fb_url": "https://www.facebook.com/SakaraLife/posts/5150410701714730",
         "reactions": "{'like': 4}",
         "reaction_count": "4",
         "with": "None",
         "page_id": "108057625950088",
         "sharers": "None",
         "image_id": "None",
         "image_ids": "[]",
         "was_live": "False",
         "fetched_time": "2022-04-08T01:06:31.031183",
         "_deepnote_index_column": 0
        },
        {
         "post_id": "5144644155624718",
         "text": "Hello, Spring. 🌸 The vernal equinox is here—one of two days annually where the Sun rests above the equator, making day and night equal lengths.\n\nTake a cue from Mother Nature and embrace this moment of renewal.",
         "post_text": "Hello, Spring. 🌸 The vernal equinox is here—one of two days annually where the Sun rests above the equator, making day and night equal lengths.\n\nTake a cue from Mother Nature and embrace this moment of renewal.",
         "shared_text": "",
         "original_text": "None",
         "time": "2022-03-20T14:43:28.000000",
         "timestamp": "1647787408",
         "image": "https://scontent-iad3-1.xx.fbcdn.net/v/t39.30808-6/277125667_5144644078958059_5709996613921705508_n.jpg?stp=cp0_dst-jpg_e15_fr_q65&_nc_cat=102&ccb=1-5&_nc_sid=9e2e56&efg=eyJpIjoidCJ9&_nc_ohc=OQ19rlWa2tsAX_qIjxv&_nc_ht=scontent-iad3-1.xx&oh=00_AT9yJrtPv6njy8IznrMONsq48I_qNwNY4QZn35a-eYpuEg&oe=6254ED86",
         "image_lowquality": "https://scontent-iad3-1.xx.fbcdn.net/v/t39.30808-6/277125667_5144644078958059_5709996613921705508_n.jpg?stp=cp0_dst-jpg_e15_p320x320_q65&_nc_cat=102&ccb=1-5&_nc_sid=9e2e56&efg=eyJpIjoidCJ9&_nc_ohc=OQ19rlWa2tsAX_qIjxv&_nc_ht=scontent-iad3-1.xx&oh=00_AT9Mxky-ZnsjykLGrxdD7douqyGiO29GKa7I1yVDteQUWg&oe=6254ED86",
         "images": "['https://scontent-iad3-1.xx.fbcdn.net/v/t39.30808-6/277125667_5144644078958059_5709996613921705508_n.jpg?stp=cp0_dst-jpg_e15_fr_q65&_nc_cat=102&ccb=1-5&_nc_sid=9e2e56&efg=eyJpIjoidCJ9&_nc_ohc=OQ19rlWa2tsAX_qIjxv&_nc_ht=scontent-iad3-1.xx&oh=00_AT9yJrtPv6njy8IznrMONsq48I_qNwNY4QZn35a-eYpuEg&oe=6254ED86']",
         "images_description": "['May be an image of African daisy and nature']",
         "images_lowquality": "['https://scontent-iad3-1.xx.fbcdn.net/v/t39.30808-6/277125667_5144644078958059_5709996613921705508_n.jpg?stp=cp0_dst-jpg_e15_p320x320_q65&_nc_cat=102&ccb=1-5&_nc_sid=9e2e56&efg=eyJpIjoidCJ9&_nc_ohc=OQ19rlWa2tsAX_qIjxv&_nc_ht=scontent-iad3-1.xx&oh=00_AT9Mxky-ZnsjykLGrxdD7douqyGiO29GKa7I1yVDteQUWg&oe=6254ED86']",
         "images_lowquality_description": "['May be an image of African daisy and nature']",
         "video": "None",
         "video_duration_seconds": "None",
         "video_height": "None",
         "video_id": "None",
         "video_quality": "None",
         "video_size_MB": "None",
         "video_thumbnail": "None",
         "video_watches": "None",
         "video_width": "None",
         "likes": "13",
         "comments": "0",
         "shares": "7",
         "post_url": "https://facebook.com/SakaraLife/posts/5144644155624718",
         "link": "None",
         "links": "[]",
         "user_id": "108057625950088",
         "username": "Sakara Life",
         "user_url": "https://facebook.com/SakaraLife/?__tn__=C-R",
         "is_live": "False",
         "factcheck": "None",
         "shared_post_id": "None",
         "shared_time": "None",
         "shared_user_id": "None",
         "shared_username": "None",
         "shared_post_url": "None",
         "available": "True",
         "comments_full": "[]",
         "reactors": "[]",
         "w3_fb_url": "https://www.facebook.com/SakaraLife/posts/5144644155624718",
         "reactions": "{'like': 13, 'love': 4, 'care': 1}",
         "reaction_count": "18",
         "with": "None",
         "page_id": "108057625950088",
         "sharers": "None",
         "image_id": "5144644102291390",
         "image_ids": "['5144644102291390']",
         "was_live": "False",
         "fetched_time": "2022-04-08T01:06:33.209188",
         "_deepnote_index_column": 0
        }
       ]
      },
      "text/plain": "            post_id                                               text  \\\n0  5189365661152567  A moment of appreciation for high-vibe, vibran...   \n0  5186889341400199  You've been loving our new Detox Protein Super...   \n0  5170780479677752  Functional foods backed by science and guided ...   \n0  5150410701714730  All the perks of an afternoon latte, none of c...   \n0  5144644155624718  Hello, Spring. 🌸 The vernal equinox is here—on...   \n\n                                           post_text shared_text  \\\n0  A moment of appreciation for high-vibe, vibran...               \n0  You've been loving our new Detox Protein Super...               \n0  Functional foods backed by science and guided ...               \n0  All the perks of an afternoon latte, none of c...               \n0  Hello, Spring. 🌸 The vernal equinox is here—on...               \n\n  original_text                time   timestamp  \\\n0          None 2022-04-06 14:00:26  1649253626   \n0          None 2022-04-05 15:47:43  1649173663   \n0          None 2022-03-30 14:48:41  1648651721   \n0          None 2022-03-22 21:30:12  1647984612   \n0          None 2022-03-20 14:43:28  1647787408   \n\n                                               image  \\\n0  https://scontent-iad3-1.xx.fbcdn.net/v/t39.308...   \n0  https://scontent-iad3-1.xx.fbcdn.net/v/t39.308...   \n0  https://scontent-iad3-1.xx.fbcdn.net/v/t39.308...   \n0  https://scontent-iad3-1.xx.fbcdn.net/v/t39.308...   \n0  https://scontent-iad3-1.xx.fbcdn.net/v/t39.308...   \n\n                                    image_lowquality  \\\n0  https://scontent-iad3-1.xx.fbcdn.net/v/t39.308...   \n0  https://scontent-iad3-1.xx.fbcdn.net/v/t39.308...   \n0  https://scontent-iad3-1.xx.fbcdn.net/v/t39.308...   \n0  https://scontent-iad3-1.xx.fbcdn.net/v/t39.308...   \n0  https://scontent-iad3-1.xx.fbcdn.net/v/t39.308...   \n\n                                              images  ...  \\\n0  [https://scontent-iad3-1.xx.fbcdn.net/v/t39.30...  ...   \n0  [https://scontent-iad3-1.xx.fbcdn.net/v/t39.30...  ...   \n0  [https://scontent-iad3-1.xx.fbcdn.net/v/t39.30...  ...   \n0  [https://scontent-iad3-1.xx.fbcdn.net/v/t39.30...  ...   \n0  [https://scontent-iad3-1.xx.fbcdn.net/v/t39.30...  ...   \n\n                                           w3_fb_url  \\\n0  https://www.facebook.com/SakaraLife/posts/5189...   \n0  https://www.facebook.com/SakaraLife/posts/5186...   \n0  https://www.facebook.com/SakaraLife/posts/5170...   \n0  https://www.facebook.com/SakaraLife/posts/5150...   \n0  https://www.facebook.com/SakaraLife/posts/5144...   \n\n                            reactions reaction_count  with          page_id  \\\n0             {'like': 13, 'love': 1}             14  None  108057625950088   \n0              {'like': 8, 'love': 1}              9  None  108057625950088   \n0              {'like': 5, 'love': 2}              7  None  108057625950088   \n0                         {'like': 4}              4  None  108057625950088   \n0  {'like': 13, 'love': 4, 'care': 1}             18  None  108057625950088   \n\n  sharers          image_id           image_ids was_live  \\\n0    None              None                  []    False   \n0    None  5186889291400204  [5186889291400204]    False   \n0    None  5170780426344424  [5170780426344424]    False   \n0    None              None                  []    False   \n0    None  5144644102291390  [5144644102291390]    False   \n\n                fetched_time  \n0 2022-04-08 01:06:23.002239  \n0 2022-04-08 01:06:25.465812  \n0 2022-04-08 01:06:27.397679  \n0 2022-04-08 01:06:31.031183  \n0 2022-04-08 01:06:33.209188  \n\n[5 rows x 51 columns]",
      "text/html": "<div>\n<style scoped>\n    .dataframe tbody tr th:only-of-type {\n        vertical-align: middle;\n    }\n\n    .dataframe tbody tr th {\n        vertical-align: top;\n    }\n\n    .dataframe thead th {\n        text-align: right;\n    }\n</style>\n<table border=\"1\" class=\"dataframe\">\n  <thead>\n    <tr style=\"text-align: right;\">\n      <th></th>\n      <th>post_id</th>\n      <th>text</th>\n      <th>post_text</th>\n      <th>shared_text</th>\n      <th>original_text</th>\n      <th>time</th>\n      <th>timestamp</th>\n      <th>image</th>\n      <th>image_lowquality</th>\n      <th>images</th>\n      <th>...</th>\n      <th>w3_fb_url</th>\n      <th>reactions</th>\n      <th>reaction_count</th>\n      <th>with</th>\n      <th>page_id</th>\n      <th>sharers</th>\n      <th>image_id</th>\n      <th>image_ids</th>\n      <th>was_live</th>\n      <th>fetched_time</th>\n    </tr>\n  </thead>\n  <tbody>\n    <tr>\n      <th>0</th>\n      <td>5189365661152567</td>\n      <td>A moment of appreciation for high-vibe, vibran...</td>\n      <td>A moment of appreciation for high-vibe, vibran...</td>\n      <td></td>\n      <td>None</td>\n      <td>2022-04-06 14:00:26</td>\n      <td>1649253626</td>\n      <td>https://scontent-iad3-1.xx.fbcdn.net/v/t39.308...</td>\n      <td>https://scontent-iad3-1.xx.fbcdn.net/v/t39.308...</td>\n      <td>[https://scontent-iad3-1.xx.fbcdn.net/v/t39.30...</td>\n      <td>...</td>\n      <td>https://www.facebook.com/SakaraLife/posts/5189...</td>\n      <td>{'like': 13, 'love': 1}</td>\n      <td>14</td>\n      <td>None</td>\n      <td>108057625950088</td>\n      <td>None</td>\n      <td>None</td>\n      <td>[]</td>\n      <td>False</td>\n      <td>2022-04-08 01:06:23.002239</td>\n    </tr>\n    <tr>\n      <th>0</th>\n      <td>5186889341400199</td>\n      <td>You've been loving our new Detox Protein Super...</td>\n      <td>You've been loving our new Detox Protein Super...</td>\n      <td></td>\n      <td>None</td>\n      <td>2022-04-05 15:47:43</td>\n      <td>1649173663</td>\n      <td>https://scontent-iad3-1.xx.fbcdn.net/v/t39.308...</td>\n      <td>https://scontent-iad3-1.xx.fbcdn.net/v/t39.308...</td>\n      <td>[https://scontent-iad3-1.xx.fbcdn.net/v/t39.30...</td>\n      <td>...</td>\n      <td>https://www.facebook.com/SakaraLife/posts/5186...</td>\n      <td>{'like': 8, 'love': 1}</td>\n      <td>9</td>\n      <td>None</td>\n      <td>108057625950088</td>\n      <td>None</td>\n      <td>5186889291400204</td>\n      <td>[5186889291400204]</td>\n      <td>False</td>\n      <td>2022-04-08 01:06:25.465812</td>\n    </tr>\n    <tr>\n      <th>0</th>\n      <td>5170780479677752</td>\n      <td>Functional foods backed by science and guided ...</td>\n      <td>Functional foods backed by science and guided ...</td>\n      <td></td>\n      <td>None</td>\n      <td>2022-03-30 14:48:41</td>\n      <td>1648651721</td>\n      <td>https://scontent-iad3-1.xx.fbcdn.net/v/t39.308...</td>\n      <td>https://scontent-iad3-1.xx.fbcdn.net/v/t39.308...</td>\n      <td>[https://scontent-iad3-1.xx.fbcdn.net/v/t39.30...</td>\n      <td>...</td>\n      <td>https://www.facebook.com/SakaraLife/posts/5170...</td>\n      <td>{'like': 5, 'love': 2}</td>\n      <td>7</td>\n      <td>None</td>\n      <td>108057625950088</td>\n      <td>None</td>\n      <td>5170780426344424</td>\n      <td>[5170780426344424]</td>\n      <td>False</td>\n      <td>2022-04-08 01:06:27.397679</td>\n    </tr>\n    <tr>\n      <th>0</th>\n      <td>5150410701714730</td>\n      <td>All the perks of an afternoon latte, none of c...</td>\n      <td>All the perks of an afternoon latte, none of c...</td>\n      <td></td>\n      <td>None</td>\n      <td>2022-03-22 21:30:12</td>\n      <td>1647984612</td>\n      <td>https://scontent-iad3-1.xx.fbcdn.net/v/t39.308...</td>\n      <td>https://scontent-iad3-1.xx.fbcdn.net/v/t39.308...</td>\n      <td>[https://scontent-iad3-1.xx.fbcdn.net/v/t39.30...</td>\n      <td>...</td>\n      <td>https://www.facebook.com/SakaraLife/posts/5150...</td>\n      <td>{'like': 4}</td>\n      <td>4</td>\n      <td>None</td>\n      <td>108057625950088</td>\n      <td>None</td>\n      <td>None</td>\n      <td>[]</td>\n      <td>False</td>\n      <td>2022-04-08 01:06:31.031183</td>\n    </tr>\n    <tr>\n      <th>0</th>\n      <td>5144644155624718</td>\n      <td>Hello, Spring. 🌸 The vernal equinox is here—on...</td>\n      <td>Hello, Spring. 🌸 The vernal equinox is here—on...</td>\n      <td></td>\n      <td>None</td>\n      <td>2022-03-20 14:43:28</td>\n      <td>1647787408</td>\n      <td>https://scontent-iad3-1.xx.fbcdn.net/v/t39.308...</td>\n      <td>https://scontent-iad3-1.xx.fbcdn.net/v/t39.308...</td>\n      <td>[https://scontent-iad3-1.xx.fbcdn.net/v/t39.30...</td>\n      <td>...</td>\n      <td>https://www.facebook.com/SakaraLife/posts/5144...</td>\n      <td>{'like': 13, 'love': 4, 'care': 1}</td>\n      <td>18</td>\n      <td>None</td>\n      <td>108057625950088</td>\n      <td>None</td>\n      <td>5144644102291390</td>\n      <td>[5144644102291390]</td>\n      <td>False</td>\n      <td>2022-04-08 01:06:33.209188</td>\n    </tr>\n  </tbody>\n</table>\n<p>5 rows × 51 columns</p>\n</div>"
     },
     "metadata": {}
    }
   ]
  },
  {
   "cell_type": "code",
   "metadata": {
    "cell_id": "f13b0b1cac8a49c4aeb0f4b0bb56e592",
    "tags": [],
    "deepnote_to_be_reexecuted": false,
    "source_hash": "c96c497d",
    "execution_start": 1649380376532,
    "execution_millis": 341,
    "deepnote_cell_type": "code",
    "deepnote_cell_height": 653,
    "deepnote_output_heights": [
     448
    ]
   },
   "source": "fig, ax = plt.subplots(figsize=(20, 10))\nax.plot(post_df_full['time'], post_df_full['likes'], label = \"Likes\", marker=\"o\")\nax.plot(post_df_full['time'], post_df_full['shares'], label = \"Shares\", marker=\"s\")\nax.plot(post_df_full['time'], post_df_full['comments'], label = \"Comments\", marker=\"*\")\nplt.legend()\nfrom matplotlib.dates import DateFormatter\nax.xaxis.set_major_formatter(DateFormatter('%d-%m-%y %H:%M'))",
   "execution_count": null,
   "outputs": [
    {
     "data": {
      "text/plain": "<Figure size 1440x720 with 1 Axes>",
      "image/png": "[encoded data removed]"
     },
     "metadata": {
      "needs_background": "light",
      "image/png": {
       "width": 1166,
       "height": 575
      }
     },
     "output_type": "display_data"
    }
   ]
  },
  {
   "cell_type": "code",
   "metadata": {
    "cell_id": "35845757ee534526b67d9a318c71d937",
    "tags": [],
    "deepnote_to_be_reexecuted": false,
    "source_hash": "c56b1368",
    "execution_start": 1649380421484,
    "execution_millis": 3,
    "deepnote_cell_type": "code",
    "deepnote_cell_height": 600
   },
   "source": "post_df_full[['post_id', 'reactions']]",
   "execution_count": null,
   "outputs": [
    {
     "output_type": "execute_result",
     "execution_count": 17,
     "data": {
      "application/vnd.deepnote.dataframe.v3+json": {
       "column_count": 2,
       "row_count": 17,
       "columns": [
        {
         "name": "post_id",
         "dtype": "object",
         "stats": {
          "unique_count": 17,
          "nan_count": 0,
          "categories": [
           {
            "name": "5189365661152567",
            "count": 1
           },
           {
            "name": "5186889341400199",
            "count": 1
           },
           {
            "name": "15 others",
            "count": 15
           }
          ]
         }
        },
        {
         "name": "reactions",
         "dtype": "object",
         "stats": {
          "unique_count": 17,
          "nan_count": 0,
          "categories": [
           {
            "name": "{'like': 13, 'love': 1}",
            "count": 1
           },
           {
            "name": "{'like': 8, 'love': 1}",
            "count": 1
           },
           {
            "name": "15 others",
            "count": 15
           }
          ]
         }
        },
        {
         "name": "_deepnote_index_column",
         "dtype": "int64"
        }
       ],
       "rows": [
        {
         "post_id": "5189365661152567",
         "reactions": "{'like': 13, 'love': 1}",
         "_deepnote_index_column": 0
        },
        {
         "post_id": "5186889341400199",
         "reactions": "{'like': 8, 'love': 1}",
         "_deepnote_index_column": 0
        },
        {
         "post_id": "5170780479677752",
         "reactions": "{'like': 5, 'love': 2}",
         "_deepnote_index_column": 0
        },
        {
         "post_id": "5150410701714730",
         "reactions": "{'like': 4}",
         "_deepnote_index_column": 0
        },
        {
         "post_id": "5144644155624718",
         "reactions": "{'like': 13, 'love': 4, 'care': 1}",
         "_deepnote_index_column": 0
        },
        {
         "post_id": "5137345683021232",
         "reactions": "{'like': 14, 'love': 5}",
         "_deepnote_index_column": 0
        },
        {
         "post_id": "5120657154690085",
         "reactions": "{'like': 12, 'love': 3}",
         "_deepnote_index_column": 0
        },
        {
         "post_id": "5109823842440083",
         "reactions": "{'like': 18, 'love': 4}",
         "_deepnote_index_column": 0
        },
        {
         "post_id": "5104445532977914",
         "reactions": "{'like': 19, 'love': 1}",
         "_deepnote_index_column": 0
        },
        {
         "post_id": "5099690703453397",
         "reactions": "{'like': 12, 'love': 1}",
         "_deepnote_index_column": 0
        }
       ]
      },
      "text/plain": "            post_id                           reactions\n0  5189365661152567             {'like': 13, 'love': 1}\n0  5186889341400199              {'like': 8, 'love': 1}\n0  5170780479677752              {'like': 5, 'love': 2}\n0  5150410701714730                         {'like': 4}\n0  5144644155624718  {'like': 13, 'love': 4, 'care': 1}\n0  5137345683021232             {'like': 14, 'love': 5}\n0  5120657154690085             {'like': 12, 'love': 3}\n0  5109823842440083             {'like': 18, 'love': 4}\n0  5104445532977914             {'like': 19, 'love': 1}\n0  5099690703453397             {'like': 12, 'love': 1}\n0  5093764057379395                        {'like': 24}\n0  5079263065496161              {'like': 8, 'love': 2}\n0  5077016862387448                        {'like': 18}\n0  5066579443431190             {'like': 19, 'love': 9}\n0  5063424447080023              {'like': 9, 'love': 1}\n0  5056960504393084              {'like': 7, 'love': 4}\n0  5051504588272009              {'like': 9, 'love': 2}",
      "text/html": "<div>\n<style scoped>\n    .dataframe tbody tr th:only-of-type {\n        vertical-align: middle;\n    }\n\n    .dataframe tbody tr th {\n        vertical-align: top;\n    }\n\n    .dataframe thead th {\n        text-align: right;\n    }\n</style>\n<table border=\"1\" class=\"dataframe\">\n  <thead>\n    <tr style=\"text-align: right;\">\n      <th></th>\n      <th>post_id</th>\n      <th>reactions</th>\n    </tr>\n  </thead>\n  <tbody>\n    <tr>\n      <th>0</th>\n      <td>5189365661152567</td>\n      <td>{'like': 13, 'love': 1}</td>\n    </tr>\n    <tr>\n      <th>0</th>\n      <td>5186889341400199</td>\n      <td>{'like': 8, 'love': 1}</td>\n    </tr>\n    <tr>\n      <th>0</th>\n      <td>5170780479677752</td>\n      <td>{'like': 5, 'love': 2}</td>\n    </tr>\n    <tr>\n      <th>0</th>\n      <td>5150410701714730</td>\n      <td>{'like': 4}</td>\n    </tr>\n    <tr>\n      <th>0</th>\n      <td>5144644155624718</td>\n      <td>{'like': 13, 'love': 4, 'care': 1}</td>\n    </tr>\n    <tr>\n      <th>0</th>\n      <td>5137345683021232</td>\n      <td>{'like': 14, 'love': 5}</td>\n    </tr>\n    <tr>\n      <th>0</th>\n      <td>5120657154690085</td>\n      <td>{'like': 12, 'love': 3}</td>\n    </tr>\n    <tr>\n      <th>0</th>\n      <td>5109823842440083</td>\n      <td>{'like': 18, 'love': 4}</td>\n    </tr>\n    <tr>\n      <th>0</th>\n      <td>5104445532977914</td>\n      <td>{'like': 19, 'love': 1}</td>\n    </tr>\n    <tr>\n      <th>0</th>\n      <td>5099690703453397</td>\n      <td>{'like': 12, 'love': 1}</td>\n    </tr>\n    <tr>\n      <th>0</th>\n      <td>5093764057379395</td>\n      <td>{'like': 24}</td>\n    </tr>\n    <tr>\n      <th>0</th>\n      <td>5079263065496161</td>\n      <td>{'like': 8, 'love': 2}</td>\n    </tr>\n    <tr>\n      <th>0</th>\n      <td>5077016862387448</td>\n      <td>{'like': 18}</td>\n    </tr>\n    <tr>\n      <th>0</th>\n      <td>5066579443431190</td>\n      <td>{'like': 19, 'love': 9}</td>\n    </tr>\n    <tr>\n      <th>0</th>\n      <td>5063424447080023</td>\n      <td>{'like': 9, 'love': 1}</td>\n    </tr>\n    <tr>\n      <th>0</th>\n      <td>5056960504393084</td>\n      <td>{'like': 7, 'love': 4}</td>\n    </tr>\n    <tr>\n      <th>0</th>\n      <td>5051504588272009</td>\n      <td>{'like': 9, 'love': 2}</td>\n    </tr>\n  </tbody>\n</table>\n</div>"
     },
     "metadata": {}
    }
   ]
  },
  {
   "cell_type": "markdown",
   "source": "Can do more data analysis such as comparing comment sentiment with different reactions",
   "metadata": {
    "cell_id": "04da37e8924a471d86604ec9044e606e",
    "tags": [],
    "is_collapsed": false,
    "deepnote_cell_type": "text-cell-p"
   }
  },
  {
   "cell_type": "markdown",
   "source": "",
   "metadata": {
    "cell_id": "eca6e5f1509f4f26972fecfca278db07",
    "tags": [],
    "is_collapsed": false,
    "owner_user_id": "8a7dc35f-d556-4189-8bd7-51c0b9a2c294",
    "deepnote_cell_type": "text-cell-p"
   }
  },
  {
   "cell_type": "markdown",
   "source": "<a style='text-decoration:none;line-height:16px;display:flex;color:#5B5B62;padding:10px;justify-content:end;' href='https://deepnote.com?utm_source=created-in-deepnote-cell&projectId=9e88faaf-ade4-4526-a9d5-3a022b266140' target=\"_blank\">\n<img alt='Created in deepnote.com' style='display:inline;max-height:16px;margin:0px;margin-right:7.5px;' src='data:image/svg+xml;base64,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' > </img>\nCreated in <span style='font-weight:600;margin-left:4px;'>Deepnote</span></a>",
   "metadata": {
    "tags": [],
    "created_in_deepnote_cell": true,
    "deepnote_cell_type": "markdown"
   }
  }
 ],
 "nbformat": 4,
 "nbformat_minor": 2,
 "metadata": {
  "orig_nbformat": 2,
  "deepnote": {
   "is_reactive": false
  },
  "deepnote_notebook_id": "f6a10389-5494-4e2d-8e7b-ed2612ec7d91",
  "deepnote_execution_queue": []
 }
}